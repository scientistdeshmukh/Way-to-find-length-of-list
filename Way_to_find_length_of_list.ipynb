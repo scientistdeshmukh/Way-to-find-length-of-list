{
 "cells": [
  {
   "cell_type": "markdown",
   "metadata": {},
   "source": [
    "### Way to find length of list"
   ]
  },
  {
   "cell_type": "markdown",
   "metadata": {},
   "source": [
    "##### Method : Naive Method\n",
    "Run a loop and increases the counter till the last element of the list to know its count."
   ]
  },
  {
   "cell_type": "code",
   "execution_count": 7,
   "metadata": {},
   "outputs": [
    {
     "name": "stdout",
     "output_type": "stream",
     "text": [
      "The list is: [5, 9, 15, 2, 41, 52]\n",
      "Length of list is: 6\n"
     ]
    }
   ],
   "source": [
    "test_list = [5, 9, 15, 2, 41, 52]\n",
    "  \n",
    "# Printing test_list\n",
    "print ('The list is: ' + str(test_list))\n",
    "  \n",
    "# Finding length of list using loop\n",
    "# Initializing counter\n",
    "counter = 0\n",
    "for i in test_list:\n",
    "      \n",
    "# incrementing counter\n",
    "    counter = counter + 1\n",
    "    \n",
    "# Printing length of list \n",
    "print ('Length of list is: ' + str(counter))"
   ]
  },
  {
   "cell_type": "code",
   "execution_count": null,
   "metadata": {},
   "outputs": [],
   "source": []
  }
 ],
 "metadata": {
  "kernelspec": {
   "display_name": "Python 3",
   "language": "python",
   "name": "python3"
  },
  "language_info": {
   "codemirror_mode": {
    "name": "ipython",
    "version": 3
   },
   "file_extension": ".py",
   "mimetype": "text/x-python",
   "name": "python",
   "nbconvert_exporter": "python",
   "pygments_lexer": "ipython3",
   "version": "3.7.4"
  }
 },
 "nbformat": 4,
 "nbformat_minor": 2
}
